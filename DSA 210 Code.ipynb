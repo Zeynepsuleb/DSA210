{
  "nbformat": 4,
  "nbformat_minor": 0,
  "metadata": {
    "colab": {
      "provenance": [],
      "authorship_tag": "ABX9TyPoYx0/XzRsCI2QtiSzuOEn",
      "include_colab_link": true
    },
    "kernelspec": {
      "name": "python3",
      "display_name": "Python 3"
    },
    "language_info": {
      "name": "python"
    }
  },
  "cells": [
    {
      "cell_type": "markdown",
      "metadata": {
        "id": "view-in-github",
        "colab_type": "text"
      },
      "source": [
        "<a href=\"https://colab.research.google.com/github/Zeynepsuleb/DSA210/blob/main/DSA%20210%20Code.ipynb\" target=\"_parent\"><img src=\"https://colab.research.google.com/assets/colab-badge.svg\" alt=\"Open In Colab\"/></a>"
      ]
    },
    {
      "cell_type": "markdown",
      "source": [
        "# Financial Asset Return Analysis & Classification\n",
        "\n",
        "This notebook explores the historical performance of key financial assets (KYD Eurobond, BIST 100, Gold) and compares them against a 1-month KYD deposit index. We also attempt to classify daily returns as positive or negative using machine learning.\n",
        "\n",
        "**Goals**:\n",
        "- Understand asset behavior via exploratory data analysis (EDA)\n",
        "- Conduct hypothesis testing (e.g., whether the portfolio outperforms the deposit index)\n",
        "- Apply a binary classification model to predict the direction of next-day returns\n"
      ],
      "metadata": {
        "id": "QqD9fYaPk2_3"
      }
    },
    {
      "cell_type": "code",
      "source": [
        "import pandas as pd\n",
        "import numpy as np\n",
        "import matplotlib.pyplot as plt\n",
        "import seaborn as sns\n",
        "from scipy import stats\n",
        "from sklearn.model_selection import train_test_split\n",
        "from sklearn.linear_model import LogisticRegression\n",
        "from sklearn.metrics import classification_report, confusion_matrix\n",
        "\n",
        "# Load dataset\n",
        "from google.colab import files\n",
        "uploaded = files.upload()  # Bu satır çalışınca Colab sana dosya seçtirecek\n",
        "\n",
        "import pandas as pd\n",
        "import io\n",
        "\n",
        "filename = list(uploaded.keys())[0]\n",
        "df = pd.read_excel(io.BytesIO(uploaded[filename]), sheet_name=\"Sheet1\")\n",
        "\n"
      ],
      "metadata": {
        "colab": {
          "base_uri": "https://localhost:8080/",
          "height": 73
        },
        "id": "Hmr4YtVbk4Mp",
        "outputId": "0ff4a0e1-1cc2-4c47-f49b-380d19007895"
      },
      "execution_count": null,
      "outputs": [
        {
          "output_type": "display_data",
          "data": {
            "text/plain": [
              "<IPython.core.display.HTML object>"
            ],
            "text/html": [
              "\n",
              "     <input type=\"file\" id=\"files-266c88cd-ff25-49e9-81cd-cdf69d45e9c1\" name=\"files[]\" multiple disabled\n",
              "        style=\"border:none\" />\n",
              "     <output id=\"result-266c88cd-ff25-49e9-81cd-cdf69d45e9c1\">\n",
              "      Upload widget is only available when the cell has been executed in the\n",
              "      current browser session. Please rerun this cell to enable.\n",
              "      </output>\n",
              "      <script>// Copyright 2017 Google LLC\n",
              "//\n",
              "// Licensed under the Apache License, Version 2.0 (the \"License\");\n",
              "// you may not use this file except in compliance with the License.\n",
              "// You may obtain a copy of the License at\n",
              "//\n",
              "//      http://www.apache.org/licenses/LICENSE-2.0\n",
              "//\n",
              "// Unless required by applicable law or agreed to in writing, software\n",
              "// distributed under the License is distributed on an \"AS IS\" BASIS,\n",
              "// WITHOUT WARRANTIES OR CONDITIONS OF ANY KIND, either express or implied.\n",
              "// See the License for the specific language governing permissions and\n",
              "// limitations under the License.\n",
              "\n",
              "/**\n",
              " * @fileoverview Helpers for google.colab Python module.\n",
              " */\n",
              "(function(scope) {\n",
              "function span(text, styleAttributes = {}) {\n",
              "  const element = document.createElement('span');\n",
              "  element.textContent = text;\n",
              "  for (const key of Object.keys(styleAttributes)) {\n",
              "    element.style[key] = styleAttributes[key];\n",
              "  }\n",
              "  return element;\n",
              "}\n",
              "\n",
              "// Max number of bytes which will be uploaded at a time.\n",
              "const MAX_PAYLOAD_SIZE = 100 * 1024;\n",
              "\n",
              "function _uploadFiles(inputId, outputId) {\n",
              "  const steps = uploadFilesStep(inputId, outputId);\n",
              "  const outputElement = document.getElementById(outputId);\n",
              "  // Cache steps on the outputElement to make it available for the next call\n",
              "  // to uploadFilesContinue from Python.\n",
              "  outputElement.steps = steps;\n",
              "\n",
              "  return _uploadFilesContinue(outputId);\n",
              "}\n",
              "\n",
              "// This is roughly an async generator (not supported in the browser yet),\n",
              "// where there are multiple asynchronous steps and the Python side is going\n",
              "// to poll for completion of each step.\n",
              "// This uses a Promise to block the python side on completion of each step,\n",
              "// then passes the result of the previous step as the input to the next step.\n",
              "function _uploadFilesContinue(outputId) {\n",
              "  const outputElement = document.getElementById(outputId);\n",
              "  const steps = outputElement.steps;\n",
              "\n",
              "  const next = steps.next(outputElement.lastPromiseValue);\n",
              "  return Promise.resolve(next.value.promise).then((value) => {\n",
              "    // Cache the last promise value to make it available to the next\n",
              "    // step of the generator.\n",
              "    outputElement.lastPromiseValue = value;\n",
              "    return next.value.response;\n",
              "  });\n",
              "}\n",
              "\n",
              "/**\n",
              " * Generator function which is called between each async step of the upload\n",
              " * process.\n",
              " * @param {string} inputId Element ID of the input file picker element.\n",
              " * @param {string} outputId Element ID of the output display.\n",
              " * @return {!Iterable<!Object>} Iterable of next steps.\n",
              " */\n",
              "function* uploadFilesStep(inputId, outputId) {\n",
              "  const inputElement = document.getElementById(inputId);\n",
              "  inputElement.disabled = false;\n",
              "\n",
              "  const outputElement = document.getElementById(outputId);\n",
              "  outputElement.innerHTML = '';\n",
              "\n",
              "  const pickedPromise = new Promise((resolve) => {\n",
              "    inputElement.addEventListener('change', (e) => {\n",
              "      resolve(e.target.files);\n",
              "    });\n",
              "  });\n",
              "\n",
              "  const cancel = document.createElement('button');\n",
              "  inputElement.parentElement.appendChild(cancel);\n",
              "  cancel.textContent = 'Cancel upload';\n",
              "  const cancelPromise = new Promise((resolve) => {\n",
              "    cancel.onclick = () => {\n",
              "      resolve(null);\n",
              "    };\n",
              "  });\n",
              "\n",
              "  // Wait for the user to pick the files.\n",
              "  const files = yield {\n",
              "    promise: Promise.race([pickedPromise, cancelPromise]),\n",
              "    response: {\n",
              "      action: 'starting',\n",
              "    }\n",
              "  };\n",
              "\n",
              "  cancel.remove();\n",
              "\n",
              "  // Disable the input element since further picks are not allowed.\n",
              "  inputElement.disabled = true;\n",
              "\n",
              "  if (!files) {\n",
              "    return {\n",
              "      response: {\n",
              "        action: 'complete',\n",
              "      }\n",
              "    };\n",
              "  }\n",
              "\n",
              "  for (const file of files) {\n",
              "    const li = document.createElement('li');\n",
              "    li.append(span(file.name, {fontWeight: 'bold'}));\n",
              "    li.append(span(\n",
              "        `(${file.type || 'n/a'}) - ${file.size} bytes, ` +\n",
              "        `last modified: ${\n",
              "            file.lastModifiedDate ? file.lastModifiedDate.toLocaleDateString() :\n",
              "                                    'n/a'} - `));\n",
              "    const percent = span('0% done');\n",
              "    li.appendChild(percent);\n",
              "\n",
              "    outputElement.appendChild(li);\n",
              "\n",
              "    const fileDataPromise = new Promise((resolve) => {\n",
              "      const reader = new FileReader();\n",
              "      reader.onload = (e) => {\n",
              "        resolve(e.target.result);\n",
              "      };\n",
              "      reader.readAsArrayBuffer(file);\n",
              "    });\n",
              "    // Wait for the data to be ready.\n",
              "    let fileData = yield {\n",
              "      promise: fileDataPromise,\n",
              "      response: {\n",
              "        action: 'continue',\n",
              "      }\n",
              "    };\n",
              "\n",
              "    // Use a chunked sending to avoid message size limits. See b/62115660.\n",
              "    let position = 0;\n",
              "    do {\n",
              "      const length = Math.min(fileData.byteLength - position, MAX_PAYLOAD_SIZE);\n",
              "      const chunk = new Uint8Array(fileData, position, length);\n",
              "      position += length;\n",
              "\n",
              "      const base64 = btoa(String.fromCharCode.apply(null, chunk));\n",
              "      yield {\n",
              "        response: {\n",
              "          action: 'append',\n",
              "          file: file.name,\n",
              "          data: base64,\n",
              "        },\n",
              "      };\n",
              "\n",
              "      let percentDone = fileData.byteLength === 0 ?\n",
              "          100 :\n",
              "          Math.round((position / fileData.byteLength) * 100);\n",
              "      percent.textContent = `${percentDone}% done`;\n",
              "\n",
              "    } while (position < fileData.byteLength);\n",
              "  }\n",
              "\n",
              "  // All done.\n",
              "  yield {\n",
              "    response: {\n",
              "      action: 'complete',\n",
              "    }\n",
              "  };\n",
              "}\n",
              "\n",
              "scope.google = scope.google || {};\n",
              "scope.google.colab = scope.google.colab || {};\n",
              "scope.google.colab._files = {\n",
              "  _uploadFiles,\n",
              "  _uploadFilesContinue,\n",
              "};\n",
              "})(self);\n",
              "</script> "
            ]
          },
          "metadata": {}
        },
        {
          "output_type": "stream",
          "name": "stdout",
          "text": [
            "Saving data set on prices of assets.xlsx to data set on prices of assets.xlsx\n"
          ]
        }
      ]
    },
    {
      "cell_type": "markdown",
      "source": [
        "### 1) Feature Engineering\n",
        "- Computed daily percentage returns for each asset\n",
        "- Created an equal-weighted portfolio\n",
        "- Added deposit index returns as a benchmark\n",
        "- Created a binary target: 1 if portfolio return > 0, else 0\n"
      ],
      "metadata": {
        "id": "vIAE5nx_lcNo"
      }
    },
    {
      "cell_type": "code",
      "source": [
        "# Calculate daily returns\n",
        "returns = df[[\"KYD Eurobond Index\", \"BIST 100 Index\", \"Gold Ounce/USD Rate\"]].pct_change().dropna()\n",
        "\n",
        "# Create equal-weight portfolio\n",
        "returns[\"Portfolio\"] = returns.mean(axis=1)\n",
        "\n",
        "# Add benchmark return\n",
        "returns[\"Deposit\"] = df[\"KYD Deposit Index (1 Month)\"].pct_change().dropna()\n",
        "\n",
        "# Create binary classification target\n",
        "returns[\"Target\"] = (returns[\"Portfolio\"] > 0).astype(int)\n",
        "returns.head()\n"
      ],
      "metadata": {
        "colab": {
          "base_uri": "https://localhost:8080/",
          "height": 299
        },
        "id": "F7X6CyGPldFF",
        "outputId": "ae83a4d9-8aa8-4e42-fdf0-bb178d1c0252"
      },
      "execution_count": null,
      "outputs": [
        {
          "output_type": "stream",
          "name": "stderr",
          "text": [
            "<ipython-input-8-3ba38db34300>:2: FutureWarning: The default fill_method='pad' in DataFrame.pct_change is deprecated and will be removed in a future version. Either fill in any non-leading NA values prior to calling pct_change or specify 'fill_method=None' to not fill NA values.\n",
            "  returns = df[[\"KYD Eurobond Index\", \"BIST 100 Index\", \"Gold Ounce/USD Rate\"]].pct_change().dropna()\n",
            "<ipython-input-8-3ba38db34300>:8: FutureWarning: The default fill_method='pad' in Series.pct_change is deprecated and will be removed in a future version. Either fill in any non-leading NA values prior to calling pct_change or specify 'fill_method=None' to not fill NA values.\n",
            "  returns[\"Deposit\"] = df[\"KYD Deposit Index (1 Month)\"].pct_change().dropna()\n"
          ]
        },
        {
          "output_type": "execute_result",
          "data": {
            "text/plain": [
              "   KYD Eurobond Index  BIST 100 Index  Gold Ounce/USD Rate  Portfolio  \\\n",
              "1            0.005290        0.001398             0.016415   0.007701   \n",
              "2           -0.003221        0.013801            -0.006052   0.001509   \n",
              "3           -0.001820        0.003525            -0.018470  -0.005588   \n",
              "4            0.002599       -0.014332             0.018469   0.002245   \n",
              "5            0.009505       -0.005612             0.027227   0.010373   \n",
              "\n",
              "    Deposit  Target  \n",
              "1  0.008625       1  \n",
              "2 -0.004171       1  \n",
              "3 -0.004571       0  \n",
              "4  0.007287       1  \n",
              "5  0.010600       1  "
            ],
            "text/html": [
              "\n",
              "  <div id=\"df-a684fc70-9d4e-48dd-91ac-1b081c7e2930\" class=\"colab-df-container\">\n",
              "    <div>\n",
              "<style scoped>\n",
              "    .dataframe tbody tr th:only-of-type {\n",
              "        vertical-align: middle;\n",
              "    }\n",
              "\n",
              "    .dataframe tbody tr th {\n",
              "        vertical-align: top;\n",
              "    }\n",
              "\n",
              "    .dataframe thead th {\n",
              "        text-align: right;\n",
              "    }\n",
              "</style>\n",
              "<table border=\"1\" class=\"dataframe\">\n",
              "  <thead>\n",
              "    <tr style=\"text-align: right;\">\n",
              "      <th></th>\n",
              "      <th>KYD Eurobond Index</th>\n",
              "      <th>BIST 100 Index</th>\n",
              "      <th>Gold Ounce/USD Rate</th>\n",
              "      <th>Portfolio</th>\n",
              "      <th>Deposit</th>\n",
              "      <th>Target</th>\n",
              "    </tr>\n",
              "  </thead>\n",
              "  <tbody>\n",
              "    <tr>\n",
              "      <th>1</th>\n",
              "      <td>0.005290</td>\n",
              "      <td>0.001398</td>\n",
              "      <td>0.016415</td>\n",
              "      <td>0.007701</td>\n",
              "      <td>0.008625</td>\n",
              "      <td>1</td>\n",
              "    </tr>\n",
              "    <tr>\n",
              "      <th>2</th>\n",
              "      <td>-0.003221</td>\n",
              "      <td>0.013801</td>\n",
              "      <td>-0.006052</td>\n",
              "      <td>0.001509</td>\n",
              "      <td>-0.004171</td>\n",
              "      <td>1</td>\n",
              "    </tr>\n",
              "    <tr>\n",
              "      <th>3</th>\n",
              "      <td>-0.001820</td>\n",
              "      <td>0.003525</td>\n",
              "      <td>-0.018470</td>\n",
              "      <td>-0.005588</td>\n",
              "      <td>-0.004571</td>\n",
              "      <td>0</td>\n",
              "    </tr>\n",
              "    <tr>\n",
              "      <th>4</th>\n",
              "      <td>0.002599</td>\n",
              "      <td>-0.014332</td>\n",
              "      <td>0.018469</td>\n",
              "      <td>0.002245</td>\n",
              "      <td>0.007287</td>\n",
              "      <td>1</td>\n",
              "    </tr>\n",
              "    <tr>\n",
              "      <th>5</th>\n",
              "      <td>0.009505</td>\n",
              "      <td>-0.005612</td>\n",
              "      <td>0.027227</td>\n",
              "      <td>0.010373</td>\n",
              "      <td>0.010600</td>\n",
              "      <td>1</td>\n",
              "    </tr>\n",
              "  </tbody>\n",
              "</table>\n",
              "</div>\n",
              "    <div class=\"colab-df-buttons\">\n",
              "\n",
              "  <div class=\"colab-df-container\">\n",
              "    <button class=\"colab-df-convert\" onclick=\"convertToInteractive('df-a684fc70-9d4e-48dd-91ac-1b081c7e2930')\"\n",
              "            title=\"Convert this dataframe to an interactive table.\"\n",
              "            style=\"display:none;\">\n",
              "\n",
              "  <svg xmlns=\"http://www.w3.org/2000/svg\" height=\"24px\" viewBox=\"0 -960 960 960\">\n",
              "    <path d=\"M120-120v-720h720v720H120Zm60-500h600v-160H180v160Zm220 220h160v-160H400v160Zm0 220h160v-160H400v160ZM180-400h160v-160H180v160Zm440 0h160v-160H620v160ZM180-180h160v-160H180v160Zm440 0h160v-160H620v160Z\"/>\n",
              "  </svg>\n",
              "    </button>\n",
              "\n",
              "  <style>\n",
              "    .colab-df-container {\n",
              "      display:flex;\n",
              "      gap: 12px;\n",
              "    }\n",
              "\n",
              "    .colab-df-convert {\n",
              "      background-color: #E8F0FE;\n",
              "      border: none;\n",
              "      border-radius: 50%;\n",
              "      cursor: pointer;\n",
              "      display: none;\n",
              "      fill: #1967D2;\n",
              "      height: 32px;\n",
              "      padding: 0 0 0 0;\n",
              "      width: 32px;\n",
              "    }\n",
              "\n",
              "    .colab-df-convert:hover {\n",
              "      background-color: #E2EBFA;\n",
              "      box-shadow: 0px 1px 2px rgba(60, 64, 67, 0.3), 0px 1px 3px 1px rgba(60, 64, 67, 0.15);\n",
              "      fill: #174EA6;\n",
              "    }\n",
              "\n",
              "    .colab-df-buttons div {\n",
              "      margin-bottom: 4px;\n",
              "    }\n",
              "\n",
              "    [theme=dark] .colab-df-convert {\n",
              "      background-color: #3B4455;\n",
              "      fill: #D2E3FC;\n",
              "    }\n",
              "\n",
              "    [theme=dark] .colab-df-convert:hover {\n",
              "      background-color: #434B5C;\n",
              "      box-shadow: 0px 1px 3px 1px rgba(0, 0, 0, 0.15);\n",
              "      filter: drop-shadow(0px 1px 2px rgba(0, 0, 0, 0.3));\n",
              "      fill: #FFFFFF;\n",
              "    }\n",
              "  </style>\n",
              "\n",
              "    <script>\n",
              "      const buttonEl =\n",
              "        document.querySelector('#df-a684fc70-9d4e-48dd-91ac-1b081c7e2930 button.colab-df-convert');\n",
              "      buttonEl.style.display =\n",
              "        google.colab.kernel.accessAllowed ? 'block' : 'none';\n",
              "\n",
              "      async function convertToInteractive(key) {\n",
              "        const element = document.querySelector('#df-a684fc70-9d4e-48dd-91ac-1b081c7e2930');\n",
              "        const dataTable =\n",
              "          await google.colab.kernel.invokeFunction('convertToInteractive',\n",
              "                                                    [key], {});\n",
              "        if (!dataTable) return;\n",
              "\n",
              "        const docLinkHtml = 'Like what you see? Visit the ' +\n",
              "          '<a target=\"_blank\" href=https://colab.research.google.com/notebooks/data_table.ipynb>data table notebook</a>'\n",
              "          + ' to learn more about interactive tables.';\n",
              "        element.innerHTML = '';\n",
              "        dataTable['output_type'] = 'display_data';\n",
              "        await google.colab.output.renderOutput(dataTable, element);\n",
              "        const docLink = document.createElement('div');\n",
              "        docLink.innerHTML = docLinkHtml;\n",
              "        element.appendChild(docLink);\n",
              "      }\n",
              "    </script>\n",
              "  </div>\n",
              "\n",
              "\n",
              "    <div id=\"df-a49dea07-f6e2-4d7b-97d5-5de60d0f97f0\">\n",
              "      <button class=\"colab-df-quickchart\" onclick=\"quickchart('df-a49dea07-f6e2-4d7b-97d5-5de60d0f97f0')\"\n",
              "                title=\"Suggest charts\"\n",
              "                style=\"display:none;\">\n",
              "\n",
              "<svg xmlns=\"http://www.w3.org/2000/svg\" height=\"24px\"viewBox=\"0 0 24 24\"\n",
              "     width=\"24px\">\n",
              "    <g>\n",
              "        <path d=\"M19 3H5c-1.1 0-2 .9-2 2v14c0 1.1.9 2 2 2h14c1.1 0 2-.9 2-2V5c0-1.1-.9-2-2-2zM9 17H7v-7h2v7zm4 0h-2V7h2v10zm4 0h-2v-4h2v4z\"/>\n",
              "    </g>\n",
              "</svg>\n",
              "      </button>\n",
              "\n",
              "<style>\n",
              "  .colab-df-quickchart {\n",
              "      --bg-color: #E8F0FE;\n",
              "      --fill-color: #1967D2;\n",
              "      --hover-bg-color: #E2EBFA;\n",
              "      --hover-fill-color: #174EA6;\n",
              "      --disabled-fill-color: #AAA;\n",
              "      --disabled-bg-color: #DDD;\n",
              "  }\n",
              "\n",
              "  [theme=dark] .colab-df-quickchart {\n",
              "      --bg-color: #3B4455;\n",
              "      --fill-color: #D2E3FC;\n",
              "      --hover-bg-color: #434B5C;\n",
              "      --hover-fill-color: #FFFFFF;\n",
              "      --disabled-bg-color: #3B4455;\n",
              "      --disabled-fill-color: #666;\n",
              "  }\n",
              "\n",
              "  .colab-df-quickchart {\n",
              "    background-color: var(--bg-color);\n",
              "    border: none;\n",
              "    border-radius: 50%;\n",
              "    cursor: pointer;\n",
              "    display: none;\n",
              "    fill: var(--fill-color);\n",
              "    height: 32px;\n",
              "    padding: 0;\n",
              "    width: 32px;\n",
              "  }\n",
              "\n",
              "  .colab-df-quickchart:hover {\n",
              "    background-color: var(--hover-bg-color);\n",
              "    box-shadow: 0 1px 2px rgba(60, 64, 67, 0.3), 0 1px 3px 1px rgba(60, 64, 67, 0.15);\n",
              "    fill: var(--button-hover-fill-color);\n",
              "  }\n",
              "\n",
              "  .colab-df-quickchart-complete:disabled,\n",
              "  .colab-df-quickchart-complete:disabled:hover {\n",
              "    background-color: var(--disabled-bg-color);\n",
              "    fill: var(--disabled-fill-color);\n",
              "    box-shadow: none;\n",
              "  }\n",
              "\n",
              "  .colab-df-spinner {\n",
              "    border: 2px solid var(--fill-color);\n",
              "    border-color: transparent;\n",
              "    border-bottom-color: var(--fill-color);\n",
              "    animation:\n",
              "      spin 1s steps(1) infinite;\n",
              "  }\n",
              "\n",
              "  @keyframes spin {\n",
              "    0% {\n",
              "      border-color: transparent;\n",
              "      border-bottom-color: var(--fill-color);\n",
              "      border-left-color: var(--fill-color);\n",
              "    }\n",
              "    20% {\n",
              "      border-color: transparent;\n",
              "      border-left-color: var(--fill-color);\n",
              "      border-top-color: var(--fill-color);\n",
              "    }\n",
              "    30% {\n",
              "      border-color: transparent;\n",
              "      border-left-color: var(--fill-color);\n",
              "      border-top-color: var(--fill-color);\n",
              "      border-right-color: var(--fill-color);\n",
              "    }\n",
              "    40% {\n",
              "      border-color: transparent;\n",
              "      border-right-color: var(--fill-color);\n",
              "      border-top-color: var(--fill-color);\n",
              "    }\n",
              "    60% {\n",
              "      border-color: transparent;\n",
              "      border-right-color: var(--fill-color);\n",
              "    }\n",
              "    80% {\n",
              "      border-color: transparent;\n",
              "      border-right-color: var(--fill-color);\n",
              "      border-bottom-color: var(--fill-color);\n",
              "    }\n",
              "    90% {\n",
              "      border-color: transparent;\n",
              "      border-bottom-color: var(--fill-color);\n",
              "    }\n",
              "  }\n",
              "</style>\n",
              "\n",
              "      <script>\n",
              "        async function quickchart(key) {\n",
              "          const quickchartButtonEl =\n",
              "            document.querySelector('#' + key + ' button');\n",
              "          quickchartButtonEl.disabled = true;  // To prevent multiple clicks.\n",
              "          quickchartButtonEl.classList.add('colab-df-spinner');\n",
              "          try {\n",
              "            const charts = await google.colab.kernel.invokeFunction(\n",
              "                'suggestCharts', [key], {});\n",
              "          } catch (error) {\n",
              "            console.error('Error during call to suggestCharts:', error);\n",
              "          }\n",
              "          quickchartButtonEl.classList.remove('colab-df-spinner');\n",
              "          quickchartButtonEl.classList.add('colab-df-quickchart-complete');\n",
              "        }\n",
              "        (() => {\n",
              "          let quickchartButtonEl =\n",
              "            document.querySelector('#df-a49dea07-f6e2-4d7b-97d5-5de60d0f97f0 button');\n",
              "          quickchartButtonEl.style.display =\n",
              "            google.colab.kernel.accessAllowed ? 'block' : 'none';\n",
              "        })();\n",
              "      </script>\n",
              "    </div>\n",
              "\n",
              "    </div>\n",
              "  </div>\n"
            ],
            "application/vnd.google.colaboratory.intrinsic+json": {
              "type": "dataframe",
              "variable_name": "returns",
              "summary": "{\n  \"name\": \"returns\",\n  \"rows\": 3740,\n  \"fields\": [\n    {\n      \"column\": \"KYD Eurobond Index\",\n      \"properties\": {\n        \"dtype\": \"number\",\n        \"std\": 5.066315754607916,\n        \"min\": -0.9954830841501423,\n        \"max\": 220.15,\n        \"num_unique_values\": 3615,\n        \"samples\": [\n          0.003549908380736433,\n          0.00985128922845524,\n          0.004688303159958052\n        ],\n        \"semantic_type\": \"\",\n        \"description\": \"\"\n      }\n    },\n    {\n      \"column\": \"BIST 100 Index\",\n      \"properties\": {\n        \"dtype\": \"number\",\n        \"std\": 0.015217430731105949,\n        \"min\": -0.10473988062764117,\n        \"max\": 0.09880073520937094,\n        \"num_unique_values\": 3617,\n        \"samples\": [\n          0.012619658228169683,\n          0.008858565804085172,\n          0.017445799457994626\n        ],\n        \"semantic_type\": \"\",\n        \"description\": \"\"\n      }\n    },\n    {\n      \"column\": \"Gold Ounce/USD Rate\",\n      \"properties\": {\n        \"dtype\": \"number\",\n        \"std\": 0.013295105061652022,\n        \"min\": -0.25539661269539793,\n        \"max\": 0.14209522759552073,\n        \"num_unique_values\": 3625,\n        \"samples\": [\n          -0.00925547374990654,\n          0.0002783576154319345,\n          0.020760314366226718\n        ],\n        \"semantic_type\": \"\",\n        \"description\": \"\"\n      }\n    },\n    {\n      \"column\": \"Portfolio\",\n      \"properties\": {\n        \"dtype\": \"number\",\n        \"std\": 1.688757500648561,\n        \"min\": -0.32792515955608953,\n        \"max\": 73.38133184370363,\n        \"num_unique_values\": 3625,\n        \"samples\": [\n          -0.005860553425303376,\n          0.004874293490725286,\n          0.011594141694720728\n        ],\n        \"semantic_type\": \"\",\n        \"description\": \"\"\n      }\n    },\n    {\n      \"column\": \"Deposit\",\n      \"properties\": {\n        \"dtype\": \"number\",\n        \"std\": 0.009669712765321914,\n        \"min\": -0.2546964484651123,\n        \"max\": 0.15851817853949446,\n        \"num_unique_values\": 3625,\n        \"samples\": [\n          0.0029769462681170644,\n          -0.003057972463764269,\n          0.00984643789596551\n        ],\n        \"semantic_type\": \"\",\n        \"description\": \"\"\n      }\n    },\n    {\n      \"column\": \"Target\",\n      \"properties\": {\n        \"dtype\": \"number\",\n        \"std\": 0,\n        \"min\": 0,\n        \"max\": 1,\n        \"num_unique_values\": 2,\n        \"samples\": [\n          0,\n          1\n        ],\n        \"semantic_type\": \"\",\n        \"description\": \"\"\n      }\n    }\n  ]\n}"
            }
          },
          "metadata": {},
          "execution_count": 8
        }
      ]
    },
    {
      "cell_type": "markdown",
      "source": [
        "\n",
        "\n",
        "This table is a part of the dataset prepared for portfolio analysis and classification modeling. Each row represents one day’s financial asset returns and shows the performance of both the portfolio and the deposit index on that specific day.\n",
        "\n",
        "* The **KYD Eurobond Index**, **BIST 100 Index**, and **Gold Ounce/USD Rate** columns contain the daily percentage returns of the corresponding assets.\n",
        "* The **Portfolio** column indicates the daily return of an equally weighted portfolio composed of these three assets.\n",
        "* The **Deposit** column represents the return of the KYD 1-Month Deposit Index for the same day.\n",
        "* The **Target** column is the classification label created for the model; it is assigned `1` if the portfolio return is positive, and `0` otherwise.\n",
        "\n",
        "This structure provides a clean and meaningful data foundation for both evaluating portfolio performance and predicting the direction of daily returns. The model is trained on this structure to estimate whether the portfolio’s return will be positive under specific market conditions.\n"
      ],
      "metadata": {
        "id": "9LB4GrCdJfRC"
      }
    },
    {
      "cell_type": "markdown",
      "source": [
        "\n",
        "According to the data in the fifth row, the KYD Eurobond return is 0.96%, the BIST 100 return is –0.56%, and the Gold return is 2.72%. The equal-weighted average of these three assets results in a daily portfolio return of 1.03%. On the same day, the deposit index return is 1.06%. Although the deposit yield is slightly higher than the portfolio’s return, the portfolio still shows a positive return. Therefore, the `Target` value is labeled as 1. This means that the model classifies that day as a “profitable day.”\n",
        "\n",
        "\n",
        "---\n",
        "\n"
      ],
      "metadata": {
        "id": "UPQvQ3KZJ-5G"
      }
    },
    {
      "cell_type": "markdown",
      "source": [
        "### 2) Exploratory Data Analysis (EDA)\n",
        "- Price trends of the main assets are visualized\n",
        "- The portfolio's return distribution is plotted with a KDE curve to examine normality\n",
        "\n"
      ],
      "metadata": {
        "id": "EdUcMvCBlmK0"
      }
    },
    {
      "cell_type": "code",
      "source": [
        "# Plot time series of asset prices\n",
        "df[[\"KYD Eurobond Index\", \"BIST 100 Index\", \"Gold Ounce/USD Rate\"]].plot(figsize=(12, 6), title=\"Asset Prices Over Time\")\n",
        "plt.xlabel(\"Date\")\n",
        "plt.ylabel(\"Index Value\")\n",
        "plt.show()\n"
      ],
      "metadata": {
        "colab": {
          "base_uri": "https://localhost:8080/",
          "height": 564
        },
        "id": "QmYN6WG9lrGB",
        "outputId": "1a43302b-1b86-42ef-9ae9-b5d75de51b94"
      },
      "execution_count": null,
      "outputs": [
        {
          "output_type": "display_data",
          "data": {
            "text/plain": [
              "<Figure size 1200x600 with 1 Axes>"
            ],
            "image/png": "[encoded data removed]"
          },
          "metadata": {}
        }
      ]
    },
    {
      "cell_type": "code",
      "source": [
        "# Plot distribution of portfolio returns\n",
        "from scipy.stats import zscore\n",
        "\n",
        "# Method 1: Exclude returns above 10% (to remove extreme outliers)\n",
        "filtered_returns = returns[returns[\"Portfolio\"] < 0.1]\n",
        "\n",
        "sns.histplot(filtered_returns[\"Portfolio\"], kde=True)\n",
        "plt.title(\"Distribution of Portfolio Returns (Filtered)\")\n",
        "plt.xlabel(\"Daily Return\")\n",
        "plt.ylabel(\"Frequency\")\n",
        "plt.show()\n",
        "\n",
        "# Method 2: Remove outliers using z-score\n",
        "returns_filtered = returns[(np.abs(zscore(returns[\"Portfolio\"])) < 3)]\n",
        "\n",
        "sns.histplot(returns_filtered[\"Portfolio\"], kde=True)\n",
        "plt.title(\"Distribution of Portfolio Returns (Z-score Filtered)\")\n",
        "plt.xlabel(\"Daily Return\")\n",
        "plt.ylabel(\"Frequency\")\n",
        "plt.show()\n"
      ],
      "metadata": {
        "colab": {
          "base_uri": "https://localhost:8080/",
          "height": 927
        },
        "id": "Y0TEGzLIluJF",
        "outputId": "afaa07a0-0bac-40e6-94a0-410d9eb4e4d8"
      },
      "execution_count": null,
      "outputs": [
        {
          "output_type": "display_data",
          "data": {
            "text/plain": [
              "<Figure size 640x480 with 1 Axes>"
            ],
            "image/png": "[encoded data removed]"
          },
          "metadata": {}
        },
        {
          "output_type": "display_data",
          "data": {
            "text/plain": [
              "<Figure size 640x480 with 1 Axes>"
            ],
            "image/png": "[encoded data removed]"
          },
          "metadata": {}
        }
      ]
    },
    {
      "cell_type": "markdown",
      "source": [
        "**General** **Evaluation**:\n",
        "\n",
        "* In terms of long-term return, gold appears to be the most profitable asset.\n",
        "\n",
        "* Eurobonds offer steady and lower-risk growth over time.\n",
        "\n",
        "* BIST 100 may provide high returns at times but also carries higher volatility, making it relatively riskier.\n",
        "\n",
        "\n",
        "The filtered histogram of portfolio returns reveals a sharp peak centered around **zero**, indicating that most daily returns are clustered very close to the mean. The distribution appears leptokurtic, suggesting low variance on most days but with the presence of rare, extreme return values. The symmetry of the distribution implies that the portfolio does not exhibit significant bias toward gain or loss days, though volatility spikes may still occur infrequently.\n",
        "\n",
        "\n",
        "---\n",
        "\n"
      ],
      "metadata": {
        "id": "axZyO_3KKdxi"
      }
    },
    {
      "cell_type": "markdown",
      "source": [
        "### 3) Hypothesis Testing\n",
        "\n",
        "Null Hypothesis (H₀):\n",
        "There is no statistically significant difference between the mean daily return of the portfolio and the mean daily return of the deposit index.\n",
        "\n",
        "Alternative Hypothesis (H₁):\n",
        "The mean daily return of the portfolio is significantly greater than the mean daily return of the deposit index.\n",
        "- If p < 0.05, we reject the null hypothesis.\n"
      ],
      "metadata": {
        "id": "_HCDsYKh1ocU"
      }
    },
    {
      "cell_type": "code",
      "source": [
        "# Hypothesis: Portfolio returns > Deposit returns\n",
        "t_stat, p_val = stats.ttest_rel(returns[\"Portfolio\"], returns[\"Deposit\"])\n",
        "print(\"T-statistic:\", t_stat)\n",
        "print(\"P-value:\", p_val)\n"
      ],
      "metadata": {
        "colab": {
          "base_uri": "https://localhost:8080/"
        },
        "id": "sklaaeOf0oyu",
        "outputId": "8047996d-7803-4380-a953-62baec8837e0"
      },
      "execution_count": null,
      "outputs": [
        {
          "output_type": "stream",
          "name": "stdout",
          "text": [
            "T-statistic: 1.4119219285745739\n",
            "P-value: 0.15805616531629268\n"
          ]
        }
      ]
    },
    {
      "cell_type": "markdown",
      "source": [
        "* Since the p-value (0.158) is greater than the significance level of 0.05, we fail to reject the null hypothesis.\n",
        "\n",
        "Therefore, there is not enough statistical evidence to conclude that the portfolio's mean daily return is significantly greater than that of the deposit index.\n",
        "\n",
        "\n",
        "---\n",
        "\n"
      ],
      "metadata": {
        "id": "e-6pstGT2nJt"
      }
    },
    {
      "cell_type": "markdown",
      "source": [
        "### 4) Machine Learning Classification\n",
        "- Features: asset returns (KYD Eurobond, BIST 100, Gold) and Deposit\n",
        "- Target: Binary outcome (1 if portfolio return > 0, otherwise 0)\n",
        "- Model: Logistic Regression\n",
        "- Metrics: Precision, recall, F1-score\n"
      ],
      "metadata": {
        "id": "6jN2JgWtmUJ3"
      }
    },
    {
      "cell_type": "code",
      "source": [
        "# Import necessary libraries\n",
        "import numpy as np\n",
        "import pandas as pd\n",
        "from sklearn.model_selection import train_test_split\n",
        "from sklearn.linear_model import LogisticRegression\n",
        "from sklearn.metrics import classification_report, confusion_matrix\n",
        "from sklearn.preprocessing import StandardScaler\n",
        "from scipy.stats import zscore\n",
        "\n",
        "#  Remove extreme outliers from the 'Portfolio' column using z-score\n",
        "returns_filtered = returns[(np.abs(zscore(returns[\"Portfolio\"])) < 3)]\n",
        "\n",
        "#  Separate feature matrix (X) and target vector (y)\n",
        "X = returns_filtered.drop(columns=[\"Target\"])\n",
        "y = returns_filtered[\"Target\"]\n",
        "\n",
        "# Standardize the features to improve model performance\n",
        "scaler = StandardScaler()\n",
        "X_scaled = scaler.fit_transform(X)\n",
        "\n",
        "#  Split the data into training and testing sets (70% train, 30% test)\n",
        "X_train, X_test, y_train, y_test = train_test_split(\n",
        "    X_scaled, y, test_size=0.3, random_state=42\n",
        ")\n",
        "\n",
        "#  Create and train the logistic regression model\n",
        "# class_weight='balanced' helps deal with class imbalance\n",
        "model = LogisticRegression(class_weight='balanced', max_iter=1000)\n",
        "model.fit(X_train, y_train)\n",
        "\n",
        "#  Make predictions on the test set\n",
        "y_pred = model.predict(X_test)\n",
        "\n",
        "#  Print evaluation metrics: precision, recall, f1-score, confusion matrix\n",
        "print(\"Classification Report:\\n\", classification_report(y_test, y_pred))\n",
        "print(\"Confusion Matrix:\\n\", confusion_matrix(y_test, y_pred))\n"
      ],
      "metadata": {
        "colab": {
          "base_uri": "https://localhost:8080/"
        },
        "id": "us5lPoj4Q3CE",
        "outputId": "de222e1e-b155-4e47-a6b4-8952feb7eff4"
      },
      "execution_count": null,
      "outputs": [
        {
          "output_type": "stream",
          "name": "stdout",
          "text": [
            "Classification Report:\n",
            "               precision    recall  f1-score   support\n",
            "\n",
            "           0       0.95      1.00      0.97       493\n",
            "           1       1.00      0.96      0.98       629\n",
            "\n",
            "    accuracy                           0.98      1122\n",
            "   macro avg       0.97      0.98      0.98      1122\n",
            "weighted avg       0.98      0.98      0.98      1122\n",
            "\n",
            "Confusion Matrix:\n",
            " [[492   1]\n",
            " [ 25 604]]\n"
          ]
        }
      ]
    },
    {
      "cell_type": "markdown",
      "source": [
        "\n",
        "\n",
        "###  Summary Interpretation:\n",
        "\n",
        "* **Accuracy:** 98% → The model makes highly accurate predictions overall.\n",
        "* **Class 0 (negative return):** 95% precision, 100% recall → Almost all negative return days were correctly identified.\n",
        "* **Class 1 (positive return):** 100% precision, 96% recall → Positive return days were predicted with excellent accuracy.\n",
        "* **Confusion Matrix:** Only 1 false positive and 25 false negatives → Very low error rate.\n",
        "\n",
        "---\n",
        "\n",
        "###  Conclusion:\n",
        "\n",
        "The model distinguishes between profitable and loss-making days almost flawlessly, making it a highly reliable tool for investment return prediction.\n"
      ],
      "metadata": {
        "id": "zvdp0zNfoorI"
      }
    },
    {
      "cell_type": "markdown",
      "source": [
        "\n",
        "---\n",
        "\n",
        "### Hypothesis and Method Summary\n",
        "\n",
        "This project investigates whether the daily return of a portfolio consisting of KYD Eurobond, BIST 100, and Gold can be predicted using historical data.\n",
        "The hypotheses are:\n",
        "\n",
        "* **H₀:** The portfolio's daily return cannot be predicted using lagged returns and financial indicators.\n",
        "* **H₁:** The portfolio's daily return can be predicted using lagged returns and financial indicators.\n",
        "\n",
        "A logistic regression model was trained with features like `Portfolio`, `Deposit`, `Lag_1`, and `Lag_2`.\n",
        "With over **98% accuracy**, the model results strongly support **H₁**, confirming that the portfolio’s direction is predictable based on past data.\n",
        "\n",
        "---"
      ],
      "metadata": {
        "id": "uM8tuOLDsmOq"
      }
    }
  ]
}